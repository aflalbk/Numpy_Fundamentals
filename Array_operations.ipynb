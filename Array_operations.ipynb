{
 "cells": [
  {
   "cell_type": "code",
   "execution_count": 1,
   "id": "b851d6f6-0819-4ee5-9dde-cc316974dab1",
   "metadata": {},
   "outputs": [],
   "source": [
    "import numpy as np"
   ]
  },
  {
   "cell_type": "code",
   "execution_count": 4,
   "id": "272a3bf2-0289-4a29-9f35-1fcfa7bce86e",
   "metadata": {},
   "outputs": [
    {
     "data": {
      "text/plain": [
       "array([[0., 0., 0.],\n",
       "       [0., 0., 0.],\n",
       "       [0., 0., 0.]])"
      ]
     },
     "execution_count": 4,
     "metadata": {},
     "output_type": "execute_result"
    }
   ],
   "source": [
    "a = np.zeros((3,3))\n",
    "a"
   ]
  },
  {
   "cell_type": "code",
   "execution_count": 7,
   "id": "1efff4b4-e7cf-41a5-8236-8fc3df835a65",
   "metadata": {},
   "outputs": [
    {
     "data": {
      "text/plain": [
       "array([[2., 2., 2.],\n",
       "       [2., 2., 2.],\n",
       "       [2., 2., 2.]])"
      ]
     },
     "execution_count": 7,
     "metadata": {},
     "output_type": "execute_result"
    }
   ],
   "source": [
    "a.fill(2)\n",
    "a"
   ]
  },
  {
   "cell_type": "code",
   "execution_count": 8,
   "id": "6698ab4d-252f-423e-8d83-e773625094a6",
   "metadata": {},
   "outputs": [
    {
     "data": {
      "text/plain": [
       "array([[7., 7., 7.],\n",
       "       [7., 7., 7.],\n",
       "       [7., 7., 7.]])"
      ]
     },
     "execution_count": 8,
     "metadata": {},
     "output_type": "execute_result"
    }
   ],
   "source": [
    "a += 5\n",
    "a"
   ]
  },
  {
   "cell_type": "code",
   "execution_count": 9,
   "id": "0e21755a-4dcd-4321-b06b-c682caa24c21",
   "metadata": {},
   "outputs": [
    {
     "data": {
      "text/plain": [
       "array([[2., 2., 2.],\n",
       "       [2., 2., 2.],\n",
       "       [2., 2., 2.]])"
      ]
     },
     "execution_count": 9,
     "metadata": {},
     "output_type": "execute_result"
    }
   ],
   "source": [
    "a -= 5\n",
    "a"
   ]
  },
  {
   "cell_type": "code",
   "execution_count": 10,
   "id": "7b814952-dc14-42b3-acf8-365045724e92",
   "metadata": {},
   "outputs": [
    {
     "data": {
      "text/plain": [
       "array([[10., 10., 10.],\n",
       "       [10., 10., 10.],\n",
       "       [10., 10., 10.]])"
      ]
     },
     "execution_count": 10,
     "metadata": {},
     "output_type": "execute_result"
    }
   ],
   "source": [
    "a *= 5\n",
    "a"
   ]
  },
  {
   "cell_type": "markdown",
   "id": "843fc9ad-4357-496e-b30d-77d25b77433d",
   "metadata": {
    "tags": []
   },
   "source": [
    "### Element-wise Operations: "
   ]
  },
  {
   "cell_type": "code",
   "execution_count": 35,
   "id": "8a01423b-bb96-4f10-98e8-1f27e7d7fc5c",
   "metadata": {},
   "outputs": [],
   "source": [
    "array1 = np.array([[1., 2., 3.],\n",
    "                   [2., 4., 4.],\n",
    "                   [9., 6., 7.]])"
   ]
  },
  {
   "cell_type": "code",
   "execution_count": 36,
   "id": "2756f655-c450-4f44-a374-62da96c5108e",
   "metadata": {},
   "outputs": [],
   "source": [
    "array2 = np.array([[5., 4., 3.],\n",
    "                  [9., 7., 3.],\n",
    "                  [1., 5., 6.]])"
   ]
  },
  {
   "cell_type": "code",
   "execution_count": 37,
   "id": "a2c2abdc-6597-4226-981c-961494cbb3fb",
   "metadata": {},
   "outputs": [
    {
     "data": {
      "text/plain": [
       "array([[ 6.,  6.,  6.],\n",
       "       [11., 11.,  7.],\n",
       "       [10., 11., 13.]])"
      ]
     },
     "execution_count": 37,
     "metadata": {},
     "output_type": "execute_result"
    }
   ],
   "source": [
    "sum_ops = array1 +array2 \n",
    "sum_ops"
   ]
  },
  {
   "cell_type": "code",
   "execution_count": 39,
   "id": "24d0ab33-fbb6-4e03-8dcb-fb52c0167de2",
   "metadata": {},
   "outputs": [
    {
     "data": {
      "text/plain": [
       "array([[-4., -2.,  0.],\n",
       "       [-7., -3.,  1.],\n",
       "       [ 8.,  1.,  1.]])"
      ]
     },
     "execution_count": 39,
     "metadata": {},
     "output_type": "execute_result"
    }
   ],
   "source": [
    "dif_ops = array1  - array2 \n",
    "dif_ops"
   ]
  },
  {
   "cell_type": "code",
   "execution_count": 40,
   "id": "b1ea5891-e4f9-413c-b434-60f8c8dd0600",
   "metadata": {},
   "outputs": [
    {
     "data": {
      "text/plain": [
       "array([[ 5.,  8.,  9.],\n",
       "       [18., 28., 12.],\n",
       "       [ 9., 30., 42.]])"
      ]
     },
     "execution_count": 40,
     "metadata": {},
     "output_type": "execute_result"
    }
   ],
   "source": [
    "mul_ops = array1  * array2 \n",
    "mul_ops"
   ]
  },
  {
   "cell_type": "code",
   "execution_count": 41,
   "id": "aa1bb9b2-d6b0-442e-9e3f-3b85ccfa90d9",
   "metadata": {},
   "outputs": [
    {
     "data": {
      "text/plain": [
       "array([[ 6.5 , 10.5 , 12.  ],\n",
       "       [23.  , 36.  , 16.  ],\n",
       "       [13.5 , 39.  , 54.25]])"
      ]
     },
     "execution_count": 41,
     "metadata": {},
     "output_type": "execute_result"
    }
   ],
   "source": [
    "rand_ops = ((5 * array1  * array2) + array1) / 4\n",
    "rand_ops"
   ]
  },
  {
   "cell_type": "code",
   "execution_count": 56,
   "id": "3d5a3fe3-7e7d-4b28-9f6a-b239e538a892",
   "metadata": {},
   "outputs": [
    {
     "name": "stdout",
     "output_type": "stream",
     "text": [
      "array1 : \n",
      " [[1 2 3]\n",
      " [4 5 6]\n",
      " [7 8 9]]\n",
      "array2 : \n",
      " [[2. 2. 2.]\n",
      " [2. 2. 2.]\n",
      " [2. 2. 2.]]\n"
     ]
    },
    {
     "data": {
      "text/plain": [
       "array([[1., 0., 1.],\n",
       "       [0., 1., 0.],\n",
       "       [1., 0., 1.]])"
      ]
     },
     "execution_count": 56,
     "metadata": {},
     "output_type": "execute_result"
    }
   ],
   "source": [
    "array1 = np.arange(1,10).reshape(3,3)\n",
    "array2 = np.ones((3,3)) + 1\n",
    "module = array1 % array2\n",
    "print(\"array1 : \\n\" , array1)\n",
    "print(\"array2 : \\n\" , array2)\n",
    "module "
   ]
  },
  {
   "cell_type": "code",
   "execution_count": 51,
   "id": "80ea7f16-4d7c-443d-8796-36055a7e31fa",
   "metadata": {},
   "outputs": [
    {
     "data": {
      "text/plain": [
       "array([[2., 2., 2.],\n",
       "       [2., 2., 2.],\n",
       "       [2., 2., 2.]])"
      ]
     },
     "execution_count": 51,
     "metadata": {},
     "output_type": "execute_result"
    }
   ],
   "source": [
    "array1 = np.ones((3,3)) + 1\n",
    "array1"
   ]
  },
  {
   "cell_type": "code",
   "execution_count": 59,
   "id": "1ac9fea3-dbc1-47e9-88dd-f9d1d0e448b3",
   "metadata": {},
   "outputs": [
    {
     "name": "stdout",
     "output_type": "stream",
     "text": [
      "[[0.5 1.  1.5]\n",
      " [2.  2.5 3. ]\n",
      " [3.5 4.  4.5]]\n"
     ]
    },
    {
     "data": {
      "text/plain": [
       "array([[0., 1., 1.],\n",
       "       [2., 2., 3.],\n",
       "       [3., 4., 4.]])"
      ]
     },
     "execution_count": 59,
     "metadata": {},
     "output_type": "execute_result"
    }
   ],
   "source": [
    "floor_divition = array1 // array2  # remove the decimal points\n",
    "print (array1 / array2)\n",
    "floor_divition"
   ]
  },
  {
   "cell_type": "code",
   "execution_count": 61,
   "id": "8c2e547f-1213-454d-83aa-df0ae9a3b4cf",
   "metadata": {},
   "outputs": [
    {
     "data": {
      "text/plain": [
       "array([[0., 1., 1.],\n",
       "       [2., 2., 3.],\n",
       "       [3., 4., 4.]])"
      ]
     },
     "execution_count": 61,
     "metadata": {},
     "output_type": "execute_result"
    }
   ],
   "source": [
    "np.floor(array1/array2) # same as floor_divition"
   ]
  },
  {
   "cell_type": "markdown",
   "id": "f2b55271-50b9-44e4-a7cc-495d6c702036",
   "metadata": {
    "tags": []
   },
   "source": [
    "### Matrix Multiplication:"
   ]
  },
  {
   "cell_type": "code",
   "execution_count": 65,
   "id": "1e9276ea-6b13-4307-bb89-a184bd14fffd",
   "metadata": {},
   "outputs": [
    {
     "name": "stdout",
     "output_type": "stream",
     "text": [
      "array1 : \n",
      " [[1 2 3]\n",
      " [4 5 6]\n",
      " [7 8 9]]\n",
      "array2 : \n",
      " [[ 5  6  7]\n",
      " [ 8  9 10]\n",
      " [11 12 13]]\n"
     ]
    }
   ],
   "source": [
    "array1 = np.arange(1,10).reshape(3,3)\n",
    "array2 = np.arange(5,14).reshape(3,3)\n",
    "print(\"array1 : \\n\" , array1)\n",
    "print(\"array2 : \\n\" , array2)"
   ]
  },
  {
   "cell_type": "code",
   "execution_count": 66,
   "id": "c8583a84-955a-4471-b49a-b9754efde1e1",
   "metadata": {},
   "outputs": [
    {
     "data": {
      "text/plain": [
       "array([[ 54,  60,  66],\n",
       "       [126, 141, 156],\n",
       "       [198, 222, 246]])"
      ]
     },
     "execution_count": 66,
     "metadata": {},
     "output_type": "execute_result"
    }
   ],
   "source": [
    "matrix_multiplication = np.matmul(array1,array2)\n",
    "matrix_multiplication"
   ]
  },
  {
   "cell_type": "code",
   "execution_count": 67,
   "id": "59ad8323-cfbd-48b8-bb80-67f0ed715a31",
   "metadata": {},
   "outputs": [
    {
     "name": "stdout",
     "output_type": "stream",
     "text": [
      "[[  5  12  21]\n",
      " [ 32  45  60]\n",
      " [ 77  96 117]]\n"
     ]
    }
   ],
   "source": [
    "print(array1 * array2)"
   ]
  },
  {
   "cell_type": "markdown",
   "id": "fcd19919-0bc0-44ae-a5d8-12a5bb0a5b15",
   "metadata": {
    "tags": []
   },
   "source": [
    "### Reduction Operations:"
   ]
  },
  {
   "cell_type": "code",
   "execution_count": 19,
   "id": "66a75aae-27bb-4282-a58d-a65bcb7a1e1a",
   "metadata": {},
   "outputs": [
    {
     "data": {
      "text/plain": [
       "array([[1., 2., 3.],\n",
       "       [2., 4., 4.],\n",
       "       [9., 6., 7.]])"
      ]
     },
     "execution_count": 19,
     "metadata": {},
     "output_type": "execute_result"
    }
   ],
   "source": [
    "original_array = np.array([[1., 2., 3.],\n",
    "                           [2., 4., 4.],\n",
    "                           [9., 6., 7.]])\n",
    "original_array"
   ]
  },
  {
   "cell_type": "code",
   "execution_count": 20,
   "id": "cbcede95-3edc-40ba-b706-526dd1f5e1fe",
   "metadata": {},
   "outputs": [
    {
     "data": {
      "text/plain": [
       "38.0"
      ]
     },
     "execution_count": 20,
     "metadata": {},
     "output_type": "execute_result"
    }
   ],
   "source": [
    "original_array.sum()"
   ]
  },
  {
   "cell_type": "code",
   "execution_count": 21,
   "id": "41e38d4d-662b-4a4a-b62a-9b6275f85abc",
   "metadata": {},
   "outputs": [
    {
     "data": {
      "text/plain": [
       "array([ 6., 10., 22.])"
      ]
     },
     "execution_count": 21,
     "metadata": {},
     "output_type": "execute_result"
    }
   ],
   "source": [
    "original_array.sum(1)  # sum of every row"
   ]
  },
  {
   "cell_type": "code",
   "execution_count": 24,
   "id": "9d646919-a0b8-4a17-b747-b72edd4813ab",
   "metadata": {},
   "outputs": [
    {
     "data": {
      "text/plain": [
       "array([12., 12., 14.])"
      ]
     },
     "execution_count": 24,
     "metadata": {},
     "output_type": "execute_result"
    }
   ],
   "source": [
    "original_array.sum(axis = 0) # sum of every column"
   ]
  },
  {
   "cell_type": "code",
   "execution_count": 25,
   "id": "35434c26-68e3-4279-8080-738c17f7ec71",
   "metadata": {},
   "outputs": [
    {
     "data": {
      "text/plain": [
       "72576.0"
      ]
     },
     "execution_count": 25,
     "metadata": {},
     "output_type": "execute_result"
    }
   ],
   "source": [
    "original_array.prod()"
   ]
  },
  {
   "cell_type": "code",
   "execution_count": 26,
   "id": "ec1acb70-a8cd-47d0-8de2-871a9e75913c",
   "metadata": {},
   "outputs": [
    {
     "data": {
      "text/plain": [
       "array([  6.,  32., 378.])"
      ]
     },
     "execution_count": 26,
     "metadata": {},
     "output_type": "execute_result"
    }
   ],
   "source": [
    "original_array.prod(axis = 1)"
   ]
  },
  {
   "cell_type": "code",
   "execution_count": 28,
   "id": "c2d39023-bec3-47f7-bd34-af9a495db825",
   "metadata": {},
   "outputs": [
    {
     "data": {
      "text/plain": [
       "4.222222222222222"
      ]
     },
     "execution_count": 28,
     "metadata": {},
     "output_type": "execute_result"
    }
   ],
   "source": [
    "original_array.mean()"
   ]
  },
  {
   "cell_type": "code",
   "execution_count": 29,
   "id": "6955ada0-e4ab-49d9-998b-fbd3e7e2eff4",
   "metadata": {},
   "outputs": [
    {
     "data": {
      "text/plain": [
       "1.0"
      ]
     },
     "execution_count": 29,
     "metadata": {},
     "output_type": "execute_result"
    }
   ],
   "source": [
    "original_array.min()"
   ]
  },
  {
   "cell_type": "code",
   "execution_count": 30,
   "id": "247df6ff-c2f7-4ac0-8c21-31f576626caa",
   "metadata": {},
   "outputs": [
    {
     "data": {
      "text/plain": [
       "9.0"
      ]
     },
     "execution_count": 30,
     "metadata": {},
     "output_type": "execute_result"
    }
   ],
   "source": [
    "original_array.max()"
   ]
  },
  {
   "cell_type": "code",
   "execution_count": 31,
   "id": "331b7879-6e5c-4495-beca-9047aaa2bfb1",
   "metadata": {},
   "outputs": [
    {
     "data": {
      "text/plain": [
       "6"
      ]
     },
     "execution_count": 31,
     "metadata": {},
     "output_type": "execute_result"
    }
   ],
   "source": [
    "original_array.argmax() # index of maximum value"
   ]
  },
  {
   "cell_type": "code",
   "execution_count": 32,
   "id": "5d8504eb-da63-4e9e-8408-ae49f5621079",
   "metadata": {},
   "outputs": [
    {
     "data": {
      "text/plain": [
       "0"
      ]
     },
     "execution_count": 32,
     "metadata": {},
     "output_type": "execute_result"
    }
   ],
   "source": [
    "original_array.argmin()  # index of minimum value"
   ]
  },
  {
   "cell_type": "code",
   "execution_count": 34,
   "id": "2b94eb1d-86e0-43ee-8cdb-ef325195dd0a",
   "metadata": {},
   "outputs": [
    {
     "data": {
      "text/plain": [
       "8.0"
      ]
     },
     "execution_count": 34,
     "metadata": {},
     "output_type": "execute_result"
    }
   ],
   "source": [
    "peak_to_peak = original_array.ptp() # ptp() = maxmium value - minimum value \n",
    "peak_to_peak"
   ]
  },
  {
   "cell_type": "markdown",
   "id": "13eb6df8-7264-4ed1-ab83-1dde0f6ff957",
   "metadata": {},
   "source": [
    "### Indexing and Slicing:"
   ]
  },
  {
   "cell_type": "code",
   "execution_count": 68,
   "id": "2af1ca8a-14d5-483b-9d26-d1ad04280d6e",
   "metadata": {},
   "outputs": [],
   "source": [
    "my_array = [10, 20, 30, 40, 50]"
   ]
  },
  {
   "cell_type": "code",
   "execution_count": 70,
   "id": "49370363-4c80-444b-b69f-cd605b583f0f",
   "metadata": {},
   "outputs": [
    {
     "data": {
      "text/plain": [
       "40"
      ]
     },
     "execution_count": 70,
     "metadata": {},
     "output_type": "execute_result"
    }
   ],
   "source": [
    "my_array[3]"
   ]
  },
  {
   "cell_type": "code",
   "execution_count": 71,
   "id": "a7893a6c-a939-4a0a-ad2e-b605c5cb318a",
   "metadata": {},
   "outputs": [
    {
     "data": {
      "text/plain": [
       "30"
      ]
     },
     "execution_count": 71,
     "metadata": {},
     "output_type": "execute_result"
    }
   ],
   "source": [
    "my_array[2]"
   ]
  },
  {
   "cell_type": "code",
   "execution_count": 73,
   "id": "068c4bbb-5144-4c41-8e2e-968644ca729d",
   "metadata": {},
   "outputs": [
    {
     "data": {
      "text/plain": [
       "[30, 40]"
      ]
     },
     "execution_count": 73,
     "metadata": {},
     "output_type": "execute_result"
    }
   ],
   "source": [
    "my_array[2:4]"
   ]
  },
  {
   "cell_type": "markdown",
   "id": "80a009de-2b58-4566-9dee-ff90da5b4669",
   "metadata": {
    "tags": []
   },
   "source": [
    "### Element-wise Functions:"
   ]
  },
  {
   "cell_type": "code",
   "execution_count": 74,
   "id": "27f070fe-6da7-49bc-9e3d-f6b9ebfec22f",
   "metadata": {},
   "outputs": [
    {
     "data": {
      "text/plain": [
       "array([ 2.71828183,  7.3890561 , 20.08553692])"
      ]
     },
     "execution_count": 74,
     "metadata": {},
     "output_type": "execute_result"
    }
   ],
   "source": [
    "data = np.array([1, 2, 3])\n",
    "np.exp(data)"
   ]
  },
  {
   "cell_type": "code",
   "execution_count": 75,
   "id": "c896a543-82a5-413c-9d1e-d1288f07b933",
   "metadata": {},
   "outputs": [
    {
     "data": {
      "text/plain": [
       "array([2., 3., 4.])"
      ]
     },
     "execution_count": 75,
     "metadata": {},
     "output_type": "execute_result"
    }
   ],
   "source": [
    "data = np.array([4, 9, 16])\n",
    "np.sqrt(data)"
   ]
  },
  {
   "cell_type": "code",
   "execution_count": 76,
   "id": "1d871f05-f81f-4320-b39c-b2040d094500",
   "metadata": {},
   "outputs": [
    {
     "data": {
      "text/plain": [
       "array([0.        , 2.30258509, 4.60517019])"
      ]
     },
     "execution_count": 76,
     "metadata": {},
     "output_type": "execute_result"
    }
   ],
   "source": [
    "data = np.array([1, 10, 100])\n",
    "np.log(data)"
   ]
  }
 ],
 "metadata": {
  "kernelspec": {
   "display_name": "Python 3 (ipykernel)",
   "language": "python",
   "name": "python3"
  },
  "language_info": {
   "codemirror_mode": {
    "name": "ipython",
    "version": 3
   },
   "file_extension": ".py",
   "mimetype": "text/x-python",
   "name": "python",
   "nbconvert_exporter": "python",
   "pygments_lexer": "ipython3",
   "version": "3.10.9"
  }
 },
 "nbformat": 4,
 "nbformat_minor": 5
}
