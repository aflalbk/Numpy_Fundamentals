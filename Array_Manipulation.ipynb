{
 "cells": [
  {
   "cell_type": "markdown",
   "id": "22ee1fda-e1d1-4e35-bdd1-95bdbf93753d",
   "metadata": {
    "tags": []
   },
   "source": [
    "### Reshaping Arrays"
   ]
  },
  {
   "cell_type": "code",
   "execution_count": 2,
   "id": "45bc61ea-c505-4cb2-8092-e8151fcb2ae7",
   "metadata": {},
   "outputs": [],
   "source": [
    "import numpy as np"
   ]
  },
  {
   "cell_type": "code",
   "execution_count": 3,
   "id": "acd6e608-8630-406d-b0eb-5e2fe581d244",
   "metadata": {},
   "outputs": [
    {
     "data": {
      "text/plain": [
       "array([[1, 2, 3],\n",
       "       [4, 5, 6],\n",
       "       [7, 8, 9]])"
      ]
     },
     "execution_count": 3,
     "metadata": {},
     "output_type": "execute_result"
    }
   ],
   "source": [
    "ary = np.array([[1,2,3],[4,5,6],[7,8,9]])\n",
    "ary"
   ]
  },
  {
   "cell_type": "code",
   "execution_count": 5,
   "id": "fde17f30-81e9-44d7-98b3-a0284729d241",
   "metadata": {},
   "outputs": [
    {
     "data": {
      "text/plain": [
       "(3, 3)"
      ]
     },
     "execution_count": 5,
     "metadata": {},
     "output_type": "execute_result"
    }
   ],
   "source": [
    "ary.shape"
   ]
  },
  {
   "cell_type": "code",
   "execution_count": 8,
   "id": "6fe5557d-f5a9-4004-9a7a-afe164330f80",
   "metadata": {},
   "outputs": [
    {
     "data": {
      "text/plain": [
       "array([21, 21, 21, 20, 20, 20, 19, 19, 19])"
      ]
     },
     "execution_count": 8,
     "metadata": {},
     "output_type": "execute_result"
    }
   ],
   "source": [
    "age_students = np.array([21, 21, 21, 20, 20, 20, 19, 19, 19])\n",
    "age_students"
   ]
  },
  {
   "cell_type": "code",
   "execution_count": 9,
   "id": "8af44dd2-4a51-49d0-914d-cad5c2c8f162",
   "metadata": {},
   "outputs": [
    {
     "data": {
      "text/plain": [
       "array([56, 57, 58, 23, 89, 45, 67, 45, 45])"
      ]
     },
     "execution_count": 9,
     "metadata": {},
     "output_type": "execute_result"
    }
   ],
   "source": [
    "score_students = np.array([56, 57, 58, 23, 89, 45, 67, 45, 45])\n",
    "score_students"
   ]
  },
  {
   "cell_type": "code",
   "execution_count": 10,
   "id": "aeaf4d08-f68f-414e-9130-17df1cc53457",
   "metadata": {},
   "outputs": [
    {
     "data": {
      "text/plain": [
       "array([[56, 57, 58],\n",
       "       [23, 89, 45],\n",
       "       [67, 45, 45]])"
      ]
     },
     "execution_count": 10,
     "metadata": {},
     "output_type": "execute_result"
    }
   ],
   "source": [
    "exam_split = score_students.reshape(3, 3)\n",
    "exam_split"
   ]
  },
  {
   "cell_type": "markdown",
   "id": "4e737290-cd32-43ca-922b-d05c6791fae1",
   "metadata": {
    "jp-MarkdownHeadingCollapsed": true,
    "tags": []
   },
   "source": [
    "### Transposing and Swapping Axes"
   ]
  },
  {
   "cell_type": "code",
   "execution_count": 11,
   "id": "966d4763-b42f-407d-8dbb-06de9bf5d366",
   "metadata": {},
   "outputs": [
    {
     "data": {
      "text/plain": [
       "array([[1, 4, 7],\n",
       "       [2, 5, 8],\n",
       "       [3, 6, 9]])"
      ]
     },
     "execution_count": 11,
     "metadata": {},
     "output_type": "execute_result"
    }
   ],
   "source": [
    "ary.T"
   ]
  },
  {
   "cell_type": "code",
   "execution_count": 12,
   "id": "2604ad12-a200-4c77-b34f-23d37319a638",
   "metadata": {},
   "outputs": [],
   "source": [
    "original_array = np.array([[[1, 2],\n",
    "                            [3, 4]],\n",
    "                           \n",
    "                           [[5, 6],\n",
    "                            [7, 8]]])"
   ]
  },
  {
   "cell_type": "code",
   "execution_count": 24,
   "id": "71b669ce-7693-4d2b-a926-da87f30a064d",
   "metadata": {},
   "outputs": [
    {
     "data": {
      "text/plain": [
       "array([[[1, 2],\n",
       "        [5, 6]],\n",
       "\n",
       "       [[3, 4],\n",
       "        [7, 8]]])"
      ]
     },
     "execution_count": 24,
     "metadata": {},
     "output_type": "execute_result"
    }
   ],
   "source": [
    "swapped_array = np.swapaxes(original_array, 1,0)\n",
    "swapped_array"
   ]
  },
  {
   "cell_type": "markdown",
   "id": "fe7147eb-8e1e-4699-ad2d-c92b41e493a4",
   "metadata": {
    "jp-MarkdownHeadingCollapsed": true,
    "tags": []
   },
   "source": [
    "### Joining Arrays (concatenation)"
   ]
  },
  {
   "cell_type": "code",
   "execution_count": 25,
   "id": "ba9562f4-ea6a-423d-93ac-6fc068763392",
   "metadata": {},
   "outputs": [
    {
     "data": {
      "text/plain": [
       "array([[1, 2, 3],\n",
       "       [4, 5, 6],\n",
       "       [7, 8, 9]])"
      ]
     },
     "execution_count": 25,
     "metadata": {},
     "output_type": "execute_result"
    }
   ],
   "source": [
    "ary"
   ]
  },
  {
   "cell_type": "code",
   "execution_count": 29,
   "id": "d5851ab6-12f8-461e-9d52-e25c51c19df0",
   "metadata": {},
   "outputs": [
    {
     "data": {
      "text/plain": [
       "array([[0.06638163, 0.45159256, 0.04686374],\n",
       "       [0.93371376, 0.99375808, 0.29366182],\n",
       "       [0.37827659, 0.23791239, 0.69751077]])"
      ]
     },
     "execution_count": 29,
     "metadata": {},
     "output_type": "execute_result"
    }
   ],
   "source": [
    "ary2= np.random.rand(3,3)\n",
    "ary2"
   ]
  },
  {
   "cell_type": "code",
   "execution_count": 33,
   "id": "cb64dc15-8810-4713-ae6b-4de7f286bb5f",
   "metadata": {},
   "outputs": [
    {
     "data": {
      "text/plain": [
       "array([[1.        , 2.        , 3.        ],\n",
       "       [4.        , 5.        , 6.        ],\n",
       "       [7.        , 8.        , 9.        ],\n",
       "       [0.06638163, 0.45159256, 0.04686374],\n",
       "       [0.93371376, 0.99375808, 0.29366182],\n",
       "       [0.37827659, 0.23791239, 0.69751077]])"
      ]
     },
     "execution_count": 33,
     "metadata": {},
     "output_type": "execute_result"
    }
   ],
   "source": [
    "# Vertical concatenation\n",
    "vertical_concatenated = np.vstack((ary,ary2))\n",
    "vertical_concatenated "
   ]
  },
  {
   "cell_type": "code",
   "execution_count": 34,
   "id": "cf09b718-3dec-4403-beb5-fd33a94537d4",
   "metadata": {},
   "outputs": [
    {
     "data": {
      "text/plain": [
       "array([[1.        , 2.        , 3.        , 0.06638163, 0.45159256,\n",
       "        0.04686374],\n",
       "       [4.        , 5.        , 6.        , 0.93371376, 0.99375808,\n",
       "        0.29366182],\n",
       "       [7.        , 8.        , 9.        , 0.37827659, 0.23791239,\n",
       "        0.69751077]])"
      ]
     },
     "execution_count": 34,
     "metadata": {},
     "output_type": "execute_result"
    }
   ],
   "source": [
    "# horizontal concatenation\n",
    "horizontal_concatenated = np.hstack((ary,ary2))\n",
    "horizontal_concatenated"
   ]
  },
  {
   "cell_type": "markdown",
   "id": "6c4d91a0-88ce-472c-a20f-d8a0799053c6",
   "metadata": {
    "jp-MarkdownHeadingCollapsed": true,
    "tags": []
   },
   "source": [
    "### Splitting Arrays"
   ]
  },
  {
   "cell_type": "code",
   "execution_count": 60,
   "id": "d9fdcae9-37b9-4146-af22-d026f6773dd1",
   "metadata": {},
   "outputs": [
    {
     "data": {
      "text/plain": [
       "array([[1.        , 2.        , 3.        ],\n",
       "       [4.        , 5.        , 6.        ],\n",
       "       [7.        , 8.        , 9.        ],\n",
       "       [0.06638163, 0.45159256, 0.04686374],\n",
       "       [0.93371376, 0.99375808, 0.29366182],\n",
       "       [0.37827659, 0.23791239, 0.69751077]])"
      ]
     },
     "execution_count": 60,
     "metadata": {},
     "output_type": "execute_result"
    }
   ],
   "source": [
    "vertical_concatenated"
   ]
  },
  {
   "cell_type": "code",
   "execution_count": 68,
   "id": "39e05300-4ad1-482c-bb30-53f1e86edeef",
   "metadata": {},
   "outputs": [],
   "source": [
    "A, B = np.vsplit(vertical_concatenated, 2)"
   ]
  },
  {
   "cell_type": "code",
   "execution_count": 69,
   "id": "b83dff8c-8158-4cac-91f9-7354590e16f7",
   "metadata": {},
   "outputs": [
    {
     "data": {
      "text/plain": [
       "array([[1., 2., 3.],\n",
       "       [4., 5., 6.],\n",
       "       [7., 8., 9.]])"
      ]
     },
     "execution_count": 69,
     "metadata": {},
     "output_type": "execute_result"
    }
   ],
   "source": [
    "A"
   ]
  },
  {
   "cell_type": "code",
   "execution_count": 70,
   "id": "7487167e-9109-4d2b-8965-6247c5978440",
   "metadata": {},
   "outputs": [
    {
     "data": {
      "text/plain": [
       "array([[0.06638163, 0.45159256, 0.04686374],\n",
       "       [0.93371376, 0.99375808, 0.29366182],\n",
       "       [0.37827659, 0.23791239, 0.69751077]])"
      ]
     },
     "execution_count": 70,
     "metadata": {},
     "output_type": "execute_result"
    }
   ],
   "source": [
    "B"
   ]
  },
  {
   "cell_type": "code",
   "execution_count": 46,
   "id": "9cf5ac3a-7b37-4791-9f04-433a5eb504b8",
   "metadata": {},
   "outputs": [
    {
     "data": {
      "text/plain": [
       "array([[0.98708152, 0.61235283, 0.95699754, 0.75067718],\n",
       "       [0.81031061, 0.77476048, 0.07428372, 0.62770638],\n",
       "       [0.93603482, 0.54644815, 0.51919619, 0.47061915],\n",
       "       [0.42984675, 0.59552461, 0.87636693, 0.40709845]])"
      ]
     },
     "execution_count": 46,
     "metadata": {},
     "output_type": "execute_result"
    }
   ],
   "source": [
    "random_array = np.random.rand(4,4)\n",
    "random_array "
   ]
  },
  {
   "cell_type": "code",
   "execution_count": 74,
   "id": "adec9160-6c80-4c45-8347-9917449ab7dc",
   "metadata": {},
   "outputs": [
    {
     "data": {
      "text/plain": [
       "array([[0.98708152],\n",
       "       [0.81031061],\n",
       "       [0.93603482],\n",
       "       [0.42984675]])"
      ]
     },
     "execution_count": 74,
     "metadata": {},
     "output_type": "execute_result"
    }
   ],
   "source": [
    "A, B, C, D = np.hsplit(random_array, 4)\n",
    "A"
   ]
  },
  {
   "cell_type": "code",
   "execution_count": 75,
   "id": "a6ce0807-3ba7-4730-9d2e-1db3d2e8b916",
   "metadata": {},
   "outputs": [
    {
     "data": {
      "text/plain": [
       "array([[0.61235283],\n",
       "       [0.77476048],\n",
       "       [0.54644815],\n",
       "       [0.59552461]])"
      ]
     },
     "execution_count": 75,
     "metadata": {},
     "output_type": "execute_result"
    }
   ],
   "source": [
    "B"
   ]
  },
  {
   "cell_type": "code",
   "execution_count": 76,
   "id": "08657af3-b9e3-4e70-880b-14507d5162f0",
   "metadata": {},
   "outputs": [
    {
     "data": {
      "text/plain": [
       "array([[0.95699754],\n",
       "       [0.07428372],\n",
       "       [0.51919619],\n",
       "       [0.87636693]])"
      ]
     },
     "execution_count": 76,
     "metadata": {},
     "output_type": "execute_result"
    }
   ],
   "source": [
    "C"
   ]
  },
  {
   "cell_type": "code",
   "execution_count": 77,
   "id": "0861ff96-ae58-44f5-b221-88d976eb1bde",
   "metadata": {},
   "outputs": [
    {
     "data": {
      "text/plain": [
       "array([[0.75067718],\n",
       "       [0.62770638],\n",
       "       [0.47061915],\n",
       "       [0.40709845]])"
      ]
     },
     "execution_count": 77,
     "metadata": {},
     "output_type": "execute_result"
    }
   ],
   "source": [
    "D"
   ]
  },
  {
   "cell_type": "markdown",
   "id": "ef76e775-43a8-48cf-b448-aa48fa74088d",
   "metadata": {
    "jp-MarkdownHeadingCollapsed": true,
    "tags": []
   },
   "source": [
    "### Adding and Removing Elements"
   ]
  },
  {
   "cell_type": "code",
   "execution_count": 79,
   "id": "57fa19dc-5df6-4e1b-8681-fed33d60eb72",
   "metadata": {},
   "outputs": [],
   "source": [
    "array_2d = [\n",
    "    [1, 2, 3, 4],\n",
    "    [5, 6, 7, 8],\n",
    "    [9, 10, 11, 12],\n",
    "    [13, 14, 15, 16]\n",
    "]"
   ]
  },
  {
   "cell_type": "code",
   "execution_count": 80,
   "id": "9760eef4-c35b-47d7-9db9-3f0b6d54e37b",
   "metadata": {},
   "outputs": [],
   "source": [
    "add = [17,18,19,20]"
   ]
  },
  {
   "cell_type": "code",
   "execution_count": 83,
   "id": "f2110754-fa93-4337-acef-932eceb53d60",
   "metadata": {},
   "outputs": [
    {
     "data": {
      "text/plain": [
       "array([ 1,  2,  3,  4,  5,  6,  7,  8,  9, 10, 11, 12, 13, 14, 15, 16, 17,\n",
       "       18, 19, 20])"
      ]
     },
     "execution_count": 83,
     "metadata": {},
     "output_type": "execute_result"
    }
   ],
   "source": [
    "new_array = np.append(array_2d,add)\n",
    "new_array"
   ]
  },
  {
   "cell_type": "code",
   "execution_count": 84,
   "id": "5f42c54c-9f37-48c2-b4b0-55ca11acdf1f",
   "metadata": {},
   "outputs": [
    {
     "data": {
      "text/plain": [
       "array([ 1,  2, 17, 18, 19, 20,  3,  4,  5,  6,  7,  8,  9, 10, 11, 12, 13,\n",
       "       14, 15, 16])"
      ]
     },
     "execution_count": 84,
     "metadata": {},
     "output_type": "execute_result"
    }
   ],
   "source": [
    "new_array = np.insert(array_2d,2,add)\n",
    "new_array"
   ]
  },
  {
   "cell_type": "code",
   "execution_count": 91,
   "id": "6f3c0bda-5e1c-4e16-b920-9de83b77e244",
   "metadata": {},
   "outputs": [
    {
     "data": {
      "text/plain": [
       "array([ 1,  2,  4,  5,  6,  7,  8,  9, 10, 11, 12, 13, 14, 15, 16])"
      ]
     },
     "execution_count": 91,
     "metadata": {},
     "output_type": "execute_result"
    }
   ],
   "source": [
    "new_array2 = np.delete(array_2d,2)\n",
    "new_array2"
   ]
  },
  {
   "cell_type": "code",
   "execution_count": 87,
   "id": "75f3f2ba-3f61-42a8-b49a-7bcbb7876c18",
   "metadata": {},
   "outputs": [],
   "source": [
    "# delete based on condition "
   ]
  },
  {
   "cell_type": "code",
   "execution_count": 98,
   "id": "e617b70a-b14b-4b30-b72f-a07725179c1d",
   "metadata": {},
   "outputs": [
    {
     "data": {
      "text/plain": [
       "array([1, 2, 3])"
      ]
     },
     "execution_count": 98,
     "metadata": {},
     "output_type": "execute_result"
    }
   ],
   "source": [
    "original_array = np.array([1, 2, 3, 4, 5])\n",
    "condition = original_array > 3\n",
    "new_array3 = original_array[~condition]\n",
    "new_array3 \n"
   ]
  },
  {
   "cell_type": "markdown",
   "id": "05b9a8c4-308d-4ea2-8545-3c56c5c09d82",
   "metadata": {
    "tags": []
   },
   "source": [
    "### Flattening and Flattening with Fortran Order"
   ]
  },
  {
   "cell_type": "code",
   "execution_count": 108,
   "id": "4223ff30-7d5c-466a-a08b-58d527068575",
   "metadata": {},
   "outputs": [
    {
     "data": {
      "text/plain": [
       "array([[4, 3, 6],\n",
       "       [5, 1, 2]])"
      ]
     },
     "execution_count": 108,
     "metadata": {},
     "output_type": "execute_result"
    }
   ],
   "source": [
    "original_array = np.array([[4, 3, 6],\n",
    "                           [5, 1, 2]])\n",
    "original_array"
   ]
  },
  {
   "cell_type": "code",
   "execution_count": 109,
   "id": "053f616b-617c-4ada-8ba4-9c60d4b2b230",
   "metadata": {},
   "outputs": [
    {
     "data": {
      "text/plain": [
       "array([4, 3, 6, 5, 1, 2])"
      ]
     },
     "execution_count": 109,
     "metadata": {},
     "output_type": "execute_result"
    }
   ],
   "source": [
    "flattened_array = original_array.flatten()\n",
    "flattened_array"
   ]
  },
  {
   "cell_type": "code",
   "execution_count": null,
   "id": "d2f14536-7f72-45b9-96e7-e387e4672bf3",
   "metadata": {},
   "outputs": [],
   "source": [
    "# Flattening with Fortran Order (Column-Major Order)"
   ]
  },
  {
   "cell_type": "code",
   "execution_count": 111,
   "id": "6f82ce02-d551-49a2-8f8d-4967b246202b",
   "metadata": {},
   "outputs": [
    {
     "data": {
      "text/plain": [
       "array([4, 5, 3, 1, 6, 2])"
      ]
     },
     "execution_count": 111,
     "metadata": {},
     "output_type": "execute_result"
    }
   ],
   "source": [
    "flattened_array = original_array.flatten(order = 'F')\n",
    "flattened_array"
   ]
  },
  {
   "cell_type": "code",
   "execution_count": 115,
   "id": "d03e18b7-6ba5-4546-9296-43adfcef7b9b",
   "metadata": {},
   "outputs": [],
   "source": [
    "array1 = np.array([\n",
    "    [1, 8, 9, 16],\n",
    "    [2, 7, 10, 15],\n",
    "    [3, 6, 11, 14],\n",
    "    [4, 5, 12, 13]\n",
    "])"
   ]
  },
  {
   "cell_type": "markdown",
   "id": "6149e197-e812-42c0-9488-7f7c63c4a7ee",
   "metadata": {
    "tags": []
   },
   "source": [
    "### Repeating and Tilings"
   ]
  },
  {
   "cell_type": "code",
   "execution_count": 6,
   "id": "8c3762cd-dc6c-4e97-882e-b15b1c5ac391",
   "metadata": {},
   "outputs": [],
   "source": [
    "original_array = np.array([[4, 3, 6],\n",
    "                           [5, 1, 2]])"
   ]
  },
  {
   "cell_type": "code",
   "execution_count": 7,
   "id": "38dceab8-57c2-441d-b25d-e3ec2b9acc40",
   "metadata": {},
   "outputs": [
    {
     "data": {
      "text/plain": [
       "array([4, 4, 4, 3, 3, 3, 6, 6, 6, 5, 5, 5, 1, 1, 1, 2, 2, 2])"
      ]
     },
     "execution_count": 7,
     "metadata": {},
     "output_type": "execute_result"
    }
   ],
   "source": [
    "repeated_array = np.repeat(original_array,3)\n",
    "repeated_array"
   ]
  },
  {
   "cell_type": "code",
   "execution_count": 9,
   "id": "17990b22-1019-4008-8fd3-9ba2157b3823",
   "metadata": {},
   "outputs": [
    {
     "data": {
      "text/plain": [
       "array([[4, 3, 6],\n",
       "       [4, 3, 6],\n",
       "       [4, 3, 6],\n",
       "       [5, 1, 2],\n",
       "       [5, 1, 2],\n",
       "       [5, 1, 2]])"
      ]
     },
     "execution_count": 9,
     "metadata": {},
     "output_type": "execute_result"
    }
   ],
   "source": [
    "repeated_array = np.repeat(original_array, 3, axis = 0)\n",
    "repeated_array"
   ]
  },
  {
   "cell_type": "code",
   "execution_count": null,
   "id": "5022f87d-cc43-4bc7-a915-edca54f003d6",
   "metadata": {},
   "outputs": [
    {
     "data": {
      "text/plain": [
       "array([1, 2, 3, 1, 2, 3, 1, 2, 3])"
      ]
     },
     "execution_count": 122,
     "metadata": {},
     "output_type": "execute_result"
    }
   ],
   "source": [
    "tiled_array = np.tile(original_array,3)\n",
    "tiled_array"
   ]
  },
  {
   "cell_type": "markdown",
   "id": "9d0dad06-1c7f-44c7-b936-0aec1edb5b36",
   "metadata": {
    "jp-MarkdownHeadingCollapsed": true,
    "tags": []
   },
   "source": [
    "### Changing Data Type"
   ]
  },
  {
   "cell_type": "code",
   "execution_count": 141,
   "id": "00ab9e1b-c228-46ba-ac24-935f5430011f",
   "metadata": {},
   "outputs": [
    {
     "name": "stdout",
     "output_type": "stream",
     "text": [
      "int32\n",
      "[1 2 3]\n"
     ]
    },
    {
     "data": {
      "text/plain": [
       "3"
      ]
     },
     "execution_count": 141,
     "metadata": {},
     "output_type": "execute_result"
    }
   ],
   "source": [
    "original_array = np.array([1, 2, 3])\n",
    "print(original_array.dtype)\n",
    "print(original_array)\n",
    "original_array.size"
   ]
  },
  {
   "cell_type": "code",
   "execution_count": 140,
   "id": "aa055b73-41a5-4cd5-a916-ab77ba32ad14",
   "metadata": {},
   "outputs": [
    {
     "name": "stdout",
     "output_type": "stream",
     "text": [
      "float32\n",
      "[1. 2. 3.]\n"
     ]
    },
    {
     "data": {
      "text/plain": [
       "3"
      ]
     },
     "execution_count": 140,
     "metadata": {},
     "output_type": "execute_result"
    }
   ],
   "source": [
    "flot_array = original_array.astype(np.float32)\n",
    "print(flot_array.dtype)\n",
    "print(flot_array)\n",
    "flot_array.size"
   ]
  },
  {
   "cell_type": "code",
   "execution_count": 139,
   "id": "f48a000b-d1b3-483c-8a7c-9a4f73ffb5e5",
   "metadata": {},
   "outputs": [
    {
     "name": "stdout",
     "output_type": "stream",
     "text": [
      "int64\n",
      "[1 2 3]\n"
     ]
    },
    {
     "data": {
      "text/plain": [
       "3"
      ]
     },
     "execution_count": 139,
     "metadata": {},
     "output_type": "execute_result"
    }
   ],
   "source": [
    "int_array = flot_array.astype(np.int64)\n",
    "print(int_array.dtype)\n",
    "print(int_array)\n",
    "flot_array.size"
   ]
  },
  {
   "cell_type": "markdown",
   "id": "8add7397-da54-4f8a-b4b8-afe3c00c709c",
   "metadata": {
    "jp-MarkdownHeadingCollapsed": true,
    "tags": []
   },
   "source": [
    "### Sorting Arrays"
   ]
  },
  {
   "cell_type": "code",
   "execution_count": 142,
   "id": "39a63e06-08ad-4144-8c7b-5d65fa7202e2",
   "metadata": {},
   "outputs": [],
   "source": [
    "original_array = np.array([[3, 1, 5],\n",
    "                           [2, 4, 6]])"
   ]
  },
  {
   "cell_type": "code",
   "execution_count": 143,
   "id": "af2fdbc9-3f96-41da-8223-e86cc16f08b5",
   "metadata": {},
   "outputs": [
    {
     "data": {
      "text/plain": [
       "array([[1, 3, 5],\n",
       "       [2, 4, 6]])"
      ]
     },
     "execution_count": 143,
     "metadata": {},
     "output_type": "execute_result"
    }
   ],
   "source": [
    "np.sort(original_array)"
   ]
  },
  {
   "cell_type": "code",
   "execution_count": 144,
   "id": "fa6754e5-1f46-4090-b0c3-c5d277e5a76d",
   "metadata": {},
   "outputs": [
    {
     "data": {
      "text/plain": [
       "array([[2, 1, 5],\n",
       "       [3, 4, 6]])"
      ]
     },
     "execution_count": 144,
     "metadata": {},
     "output_type": "execute_result"
    }
   ],
   "source": [
    "np.sort(original_array, axis = 0)"
   ]
  },
  {
   "cell_type": "markdown",
   "id": "8530e201-38f0-4a71-9383-d27d23768c83",
   "metadata": {
    "jp-MarkdownHeadingCollapsed": true,
    "tags": []
   },
   "source": [
    "### Searching Arrays"
   ]
  },
  {
   "cell_type": "code",
   "execution_count": 167,
   "id": "f6b22526-5200-4544-943b-c2438e7151ad",
   "metadata": {},
   "outputs": [
    {
     "data": {
      "text/plain": [
       "array([3, 1, 5, 4, 6])"
      ]
     },
     "execution_count": 167,
     "metadata": {},
     "output_type": "execute_result"
    }
   ],
   "source": [
    "original_array = np.array([3, 1, 5, 4, 6])\n",
    "original_array"
   ]
  },
  {
   "cell_type": "code",
   "execution_count": 168,
   "id": "b27aff1e-717b-4304-b373-8f8878417bfb",
   "metadata": {},
   "outputs": [
    {
     "data": {
      "text/plain": [
       "(array([2, 3, 4], dtype=int64),)"
      ]
     },
     "execution_count": 168,
     "metadata": {},
     "output_type": "execute_result"
    }
   ],
   "source": [
    "np.where(original_array > 3)"
   ]
  },
  {
   "cell_type": "markdown",
   "id": "7866ffa0-bdb7-40a5-b32f-e6149ec092e5",
   "metadata": {
    "tags": []
   },
   "source": [
    "### Unique Values and Counts"
   ]
  },
  {
   "cell_type": "code",
   "execution_count": 170,
   "id": "7f3e49a8-26b4-463e-acb8-5c64e8d5c32e",
   "metadata": {},
   "outputs": [
    {
     "data": {
      "text/plain": [
       "array([3, 1, 5, 4, 6, 3, 5])"
      ]
     },
     "execution_count": 170,
     "metadata": {},
     "output_type": "execute_result"
    }
   ],
   "source": [
    "original_array = np.array([3, 1, 5, 4, 6, 3, 5])\n",
    "original_array"
   ]
  },
  {
   "cell_type": "code",
   "execution_count": 171,
   "id": "31ff0873-814f-44fd-8458-5fb239164a67",
   "metadata": {},
   "outputs": [
    {
     "data": {
      "text/plain": [
       "array([1, 3, 4, 5, 6])"
      ]
     },
     "execution_count": 171,
     "metadata": {},
     "output_type": "execute_result"
    }
   ],
   "source": [
    "np.unique(original_array)"
   ]
  },
  {
   "cell_type": "code",
   "execution_count": 184,
   "id": "ffdf506d-b47d-4e18-8497-bc9b92dee61c",
   "metadata": {},
   "outputs": [],
   "source": [
    "A, B = np.unique(original_array, return_counts=True)"
   ]
  },
  {
   "cell_type": "code",
   "execution_count": 185,
   "id": "69e382d0-3314-410f-9657-95dddf7620e1",
   "metadata": {},
   "outputs": [
    {
     "name": "stdout",
     "output_type": "stream",
     "text": [
      "[1 3 4 5 6]\n",
      "[1 2 1 2 1]\n"
     ]
    }
   ],
   "source": [
    "print(A)\n",
    "print(B)"
   ]
  },
  {
   "cell_type": "markdown",
   "id": "273229a6-af7a-4416-b277-9839891f3359",
   "metadata": {
    "jp-MarkdownHeadingCollapsed": true,
    "tags": []
   },
   "source": [
    "### Masked Arrays"
   ]
  },
  {
   "cell_type": "code",
   "execution_count": 186,
   "id": "bbdca1ef-53bb-4901-a793-cb8cda6e4531",
   "metadata": {},
   "outputs": [],
   "source": [
    "import numpy.ma as ma"
   ]
  },
  {
   "cell_type": "code",
   "execution_count": 187,
   "id": "834510ab-2072-48dd-b068-1dee4adc5743",
   "metadata": {},
   "outputs": [
    {
     "data": {
      "text/plain": [
       "array([   1,    2, -999,    4, -999,    6,    7, -999])"
      ]
     },
     "execution_count": 187,
     "metadata": {},
     "output_type": "execute_result"
    }
   ],
   "source": [
    "data = np.array([1, 2, -999, 4, -999, 6, 7, -999])\n",
    "data"
   ]
  },
  {
   "cell_type": "code",
   "execution_count": 189,
   "id": "2d2a7b72-e290-4c5e-8d06-a79bba6e4d4f",
   "metadata": {},
   "outputs": [
    {
     "data": {
      "text/plain": [
       "array([False, False,  True, False,  True, False, False,  True])"
      ]
     },
     "execution_count": 189,
     "metadata": {},
     "output_type": "execute_result"
    }
   ],
   "source": [
    "mask = ( data == -999)\n",
    "mask"
   ]
  },
  {
   "cell_type": "code",
   "execution_count": 193,
   "id": "9bfd3bf5-d478-4be6-b885-934b1ee6aaa2",
   "metadata": {},
   "outputs": [
    {
     "data": {
      "text/plain": [
       "masked_array(data=[1, 2, --, 4, --, 6, 7, --],\n",
       "             mask=[False, False,  True, False,  True, False, False,  True],\n",
       "       fill_value=999999)"
      ]
     },
     "execution_count": 193,
     "metadata": {},
     "output_type": "execute_result"
    }
   ],
   "source": [
    "masked_data = ma.masked_array(data, mask)\n",
    "masked_data"
   ]
  },
  {
   "cell_type": "markdown",
   "id": "f3ab207c-166f-4bdb-ad5e-581673546039",
   "metadata": {
    "jp-MarkdownHeadingCollapsed": true,
    "tags": []
   },
   "source": [
    "### Fancy Indexing and Index Tricks"
   ]
  },
  {
   "cell_type": "code",
   "execution_count": 195,
   "id": "df93cdff-1e02-479b-b961-da6c017f94c1",
   "metadata": {},
   "outputs": [],
   "source": [
    "original_array = np.array([1, 2, 3, 4, 5])"
   ]
  },
  {
   "cell_type": "code",
   "execution_count": 201,
   "id": "91bb42af-983e-488c-acda-7956ce1b2bbb",
   "metadata": {},
   "outputs": [
    {
     "data": {
      "text/plain": [
       "array([4, 5])"
      ]
     },
     "execution_count": 201,
     "metadata": {},
     "output_type": "execute_result"
    }
   ],
   "source": [
    "selected_elements = original_array[np.array([3,4])]\n",
    "selected_elements"
   ]
  },
  {
   "cell_type": "code",
   "execution_count": 207,
   "id": "48f7d43d-a3c2-4f68-8942-371f999e89d1",
   "metadata": {},
   "outputs": [],
   "source": [
    "x = np.arange(6)\n",
    "y = np.arange(2)\n",
    "xx, yy = np.meshgrid(x, y)"
   ]
  },
  {
   "cell_type": "code",
   "execution_count": 211,
   "id": "ff754bc9-eb94-4d8e-a239-49ad729b5aa9",
   "metadata": {},
   "outputs": [
    {
     "name": "stdout",
     "output_type": "stream",
     "text": [
      "[0 1 2 3 4 5]\n"
     ]
    },
    {
     "data": {
      "text/plain": [
       "array([[0, 1, 2, 3, 4, 5],\n",
       "       [0, 1, 2, 3, 4, 5]])"
      ]
     },
     "execution_count": 211,
     "metadata": {},
     "output_type": "execute_result"
    }
   ],
   "source": [
    "print(x) # Y number of rows of X\n",
    "xx"
   ]
  },
  {
   "cell_type": "code",
   "execution_count": 210,
   "id": "52985da5-46ee-4256-a939-c5f29c781bed",
   "metadata": {},
   "outputs": [
    {
     "name": "stdout",
     "output_type": "stream",
     "text": [
      "[0 1]\n"
     ]
    },
    {
     "data": {
      "text/plain": [
       "array([[0, 0, 0, 0, 0, 0],\n",
       "       [1, 1, 1, 1, 1, 1]])"
      ]
     },
     "execution_count": 210,
     "metadata": {},
     "output_type": "execute_result"
    }
   ],
   "source": [
    "print(y) # X number of column of Y\n",
    "yy"
   ]
  },
  {
   "cell_type": "markdown",
   "id": "537fc31a-a43c-4396-8adc-900229a2384f",
   "metadata": {
    "jp-MarkdownHeadingCollapsed": true,
    "tags": []
   },
   "source": [
    "### Diagonal and Trace"
   ]
  },
  {
   "cell_type": "code",
   "execution_count": 212,
   "id": "6cd74f06-b287-4989-a488-86db2703ece9",
   "metadata": {},
   "outputs": [],
   "source": [
    "matrix = np.array([[1, 2, 3],\n",
    "                   [4, 5, 6],\n",
    "                   [7, 8, 9]])"
   ]
  },
  {
   "cell_type": "code",
   "execution_count": 214,
   "id": "64279b64-a297-4b8e-829c-32ba1dd60844",
   "metadata": {},
   "outputs": [
    {
     "data": {
      "text/plain": [
       "array([1, 5, 9])"
      ]
     },
     "execution_count": 214,
     "metadata": {},
     "output_type": "execute_result"
    }
   ],
   "source": [
    "diagonal_elements = np.diagonal(matrix)\n",
    "diagonal_elements"
   ]
  },
  {
   "cell_type": "code",
   "execution_count": 215,
   "id": "c0b1e9ef-b0f0-4ba3-ae9b-739dfcb181b5",
   "metadata": {},
   "outputs": [
    {
     "data": {
      "text/plain": [
       "15"
      ]
     },
     "execution_count": 215,
     "metadata": {},
     "output_type": "execute_result"
    }
   ],
   "source": [
    "trace = np.trace(matrix)\n",
    "trace"
   ]
  },
  {
   "cell_type": "markdown",
   "id": "43a2e46e-e283-45e5-82ab-18ebdf986cd5",
   "metadata": {
    "jp-MarkdownHeadingCollapsed": true,
    "tags": []
   },
   "source": [
    "### Flipping and Rotating"
   ]
  },
  {
   "cell_type": "code",
   "execution_count": 216,
   "id": "e49977a1-e178-40d6-afb8-477279527dfa",
   "metadata": {},
   "outputs": [],
   "source": [
    "original_array = np.array([[1, 2, 3],\n",
    "                           [4, 5, 6],\n",
    "                           [7, 8, 9]])"
   ]
  },
  {
   "cell_type": "code",
   "execution_count": 217,
   "id": "77510372-75a0-4e44-bcc4-f8db190436e3",
   "metadata": {},
   "outputs": [
    {
     "data": {
      "text/plain": [
       "array([[3, 2, 1],\n",
       "       [6, 5, 4],\n",
       "       [9, 8, 7]])"
      ]
     },
     "execution_count": 217,
     "metadata": {},
     "output_type": "execute_result"
    }
   ],
   "source": [
    "np.fliplr(original_array)  # last column to first column"
   ]
  },
  {
   "cell_type": "code",
   "execution_count": 219,
   "id": "041aeed3-bb8d-4f46-a2b6-0c48e6168d98",
   "metadata": {},
   "outputs": [
    {
     "data": {
      "text/plain": [
       "array([[7, 8, 9],\n",
       "       [4, 5, 6],\n",
       "       [1, 2, 3]])"
      ]
     },
     "execution_count": 219,
     "metadata": {},
     "output_type": "execute_result"
    }
   ],
   "source": [
    "np.flipud(original_array)  # last row to first row"
   ]
  },
  {
   "cell_type": "code",
   "execution_count": 220,
   "id": "2aaecbdb-6588-43d6-be89-20d3c275f66e",
   "metadata": {},
   "outputs": [
    {
     "data": {
      "text/plain": [
       "array([[3, 6, 9],\n",
       "       [2, 5, 8],\n",
       "       [1, 4, 7]])"
      ]
     },
     "execution_count": 220,
     "metadata": {},
     "output_type": "execute_result"
    }
   ],
   "source": [
    "np.rot90(original_array)  "
   ]
  }
 ],
 "metadata": {
  "kernelspec": {
   "display_name": "Python 3 (ipykernel)",
   "language": "python",
   "name": "python3"
  },
  "language_info": {
   "codemirror_mode": {
    "name": "ipython",
    "version": 3
   },
   "file_extension": ".py",
   "mimetype": "text/x-python",
   "name": "python",
   "nbconvert_exporter": "python",
   "pygments_lexer": "ipython3",
   "version": "3.10.9"
  }
 },
 "nbformat": 4,
 "nbformat_minor": 5
}
