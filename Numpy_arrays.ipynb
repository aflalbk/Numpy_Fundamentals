{
 "cells": [
  {
   "cell_type": "code",
   "execution_count": 1,
   "id": "19c83c13-2f66-4389-b96b-9a6f2b87b2d6",
   "metadata": {},
   "outputs": [],
   "source": [
    "import numpy as np"
   ]
  },
  {
   "cell_type": "code",
   "execution_count": 2,
   "id": "98b5b52c-e390-42c9-bbe1-cdc2caf10ecc",
   "metadata": {},
   "outputs": [],
   "source": [
    "my_array = np.arange(8)"
   ]
  },
  {
   "cell_type": "code",
   "execution_count": 3,
   "id": "312734e9-f207-4abd-a439-8273286c4675",
   "metadata": {},
   "outputs": [
    {
     "data": {
      "text/plain": [
       "array([0, 1, 2, 3, 4, 5, 6, 7])"
      ]
     },
     "execution_count": 3,
     "metadata": {},
     "output_type": "execute_result"
    }
   ],
   "source": [
    "my_array "
   ]
  },
  {
   "cell_type": "code",
   "execution_count": 4,
   "id": "8eb8aee8-8c73-47d6-a72b-a3357411b6e7",
   "metadata": {},
   "outputs": [
    {
     "data": {
      "text/plain": [
       "numpy.ndarray"
      ]
     },
     "execution_count": 4,
     "metadata": {},
     "output_type": "execute_result"
    }
   ],
   "source": [
    "type(my_array)"
   ]
  },
  {
   "cell_type": "code",
   "execution_count": 5,
   "id": "b98a7d59-b746-4e68-ad4d-54c9708fdee1",
   "metadata": {},
   "outputs": [],
   "source": [
    "my_array = np.arange(1,8)"
   ]
  },
  {
   "cell_type": "code",
   "execution_count": 6,
   "id": "3aa7c6c1-bcc2-413d-ad2f-87294349ac43",
   "metadata": {},
   "outputs": [
    {
     "data": {
      "text/plain": [
       "array([1, 2, 3, 4, 5, 6, 7])"
      ]
     },
     "execution_count": 6,
     "metadata": {},
     "output_type": "execute_result"
    }
   ],
   "source": [
    "my_array"
   ]
  },
  {
   "cell_type": "code",
   "execution_count": 7,
   "id": "62303d95-1b56-4976-8a3c-56d7ae371095",
   "metadata": {},
   "outputs": [
    {
     "data": {
      "text/plain": [
       "array([1, 4, 7])"
      ]
     },
     "execution_count": 7,
     "metadata": {},
     "output_type": "execute_result"
    }
   ],
   "source": [
    "my_array = np.arange(1,8,3)\n",
    "my_array"
   ]
  },
  {
   "cell_type": "code",
   "execution_count": 8,
   "id": "5f449933-3484-48d4-8ace-1d28c108bf83",
   "metadata": {},
   "outputs": [
    {
     "data": {
      "text/plain": [
       "array([1. , 1.5, 2. , 2.5, 3. , 3.5, 4. , 4.5, 5. , 5.5, 6. , 6.5, 7. ,\n",
       "       7.5])"
      ]
     },
     "execution_count": 8,
     "metadata": {},
     "output_type": "execute_result"
    }
   ],
   "source": [
    "my_array = np.arange(1,8,0.5)\n",
    "my_array"
   ]
  },
  {
   "cell_type": "code",
   "execution_count": 9,
   "id": "b5d5bccb-da55-44b2-b697-fa5028b046ce",
   "metadata": {},
   "outputs": [
    {
     "data": {
      "text/plain": [
       "array([-2. , -1.5, -1. , -0.5,  0. ,  0.5,  1. ,  1.5,  2. ,  2.5,  3. ,\n",
       "        3.5,  4. ,  4.5,  5. ,  5.5,  6. ,  6.5,  7. ,  7.5])"
      ]
     },
     "execution_count": 9,
     "metadata": {},
     "output_type": "execute_result"
    }
   ],
   "source": [
    "my_array = np.arange(-2,8,0.5)\n",
    "my_array"
   ]
  },
  {
   "cell_type": "code",
   "execution_count": 10,
   "id": "149c0982-35ff-4211-9945-8f0756268e6f",
   "metadata": {},
   "outputs": [],
   "source": [
    "# Arrays from list"
   ]
  },
  {
   "cell_type": "code",
   "execution_count": 19,
   "id": "593592ea-8694-48d7-8ca8-76cde6545bbf",
   "metadata": {
    "tags": []
   },
   "outputs": [
    {
     "name": "stdout",
     "output_type": "stream",
     "text": [
      "<class 'list'>\n",
      "[1 2 3]\n"
     ]
    },
    {
     "data": {
      "text/plain": [
       "numpy.int32"
      ]
     },
     "execution_count": 19,
     "metadata": {},
     "output_type": "execute_result"
    }
   ],
   "source": [
    "lst = [1,2,3]\n",
    "print(type(lst))\n",
    "from_list = np.array(lst)\n",
    "print(from_list)\n",
    "type(from_list[0])"
   ]
  },
  {
   "cell_type": "code",
   "execution_count": 20,
   "id": "29b17041-d100-4751-80bc-0d7b3b8b3bc4",
   "metadata": {},
   "outputs": [],
   "source": [
    "# 2D array"
   ]
  },
  {
   "cell_type": "code",
   "execution_count": 22,
   "id": "35448814-8310-4793-9fdc-3e7370287af1",
   "metadata": {},
   "outputs": [
    {
     "data": {
      "text/plain": [
       "array([[1, 2, 3],\n",
       "       [3, 4, 5]])"
      ]
     },
     "execution_count": 22,
     "metadata": {},
     "output_type": "execute_result"
    }
   ],
   "source": [
    "from_list = np.array([[1,2,3],[3,4,5]])\n",
    "from_list"
   ]
  },
  {
   "cell_type": "code",
   "execution_count": 30,
   "id": "77529c8f-dfa5-45ef-947b-a2610149523b",
   "metadata": {},
   "outputs": [
    {
     "data": {
      "text/plain": [
       "array([[ 0,  5, 10, 15, 20, 25, 30, 35, 40, 45, 50, 55],\n",
       "       [40, 45, 50, 55, 60, 65, 70, 75, 80, 85, 90, 95]])"
      ]
     },
     "execution_count": 30,
     "metadata": {},
     "output_type": "execute_result"
    }
   ],
   "source": [
    "A = np.array((np.arange(0,60,5),np.arange(40,100,5)))\n",
    "A"
   ]
  },
  {
   "cell_type": "code",
   "execution_count": 34,
   "id": "b98d1311-fdaa-431f-b2a5-b4db275188e6",
   "metadata": {},
   "outputs": [
    {
     "name": "stdout",
     "output_type": "stream",
     "text": [
      "(2, 12)\n",
      "(20,)\n"
     ]
    }
   ],
   "source": [
    "print(A.shape)\n",
    "print(my_array.shape)\n"
   ]
  },
  {
   "cell_type": "code",
   "execution_count": 35,
   "id": "6b931a77-e4a0-4a6e-b294-42f0e11d3435",
   "metadata": {},
   "outputs": [],
   "source": [
    "# Change the shape of Array"
   ]
  },
  {
   "cell_type": "code",
   "execution_count": 38,
   "id": "5c02bb86-47c9-40c8-b5fb-34ca0e14f4d2",
   "metadata": {},
   "outputs": [
    {
     "data": {
      "text/plain": [
       "array([[ 0,  5, 10, 15, 20, 25],\n",
       "       [30, 35, 40, 45, 50, 55],\n",
       "       [40, 45, 50, 55, 60, 65],\n",
       "       [70, 75, 80, 85, 90, 95]])"
      ]
     },
     "execution_count": 38,
     "metadata": {},
     "output_type": "execute_result"
    }
   ],
   "source": [
    "A.reshape((4,6))"
   ]
  },
  {
   "cell_type": "code",
   "execution_count": 39,
   "id": "66213eaf-9652-4d87-b1b1-fdd8b3194314",
   "metadata": {},
   "outputs": [],
   "source": [
    "# Create empty arrays "
   ]
  },
  {
   "cell_type": "code",
   "execution_count": 50,
   "id": "2a0a5a32-75dc-40d6-b736-6fe37a5c971c",
   "metadata": {},
   "outputs": [
    {
     "data": {
      "text/plain": [
       "array([[0., 0., 0., 0., 0.],\n",
       "       [0., 0., 0., 0., 0.],\n",
       "       [0., 0., 0., 0., 0.],\n",
       "       [0., 0., 0., 0., 0.]])"
      ]
     },
     "execution_count": 50,
     "metadata": {},
     "output_type": "execute_result"
    }
   ],
   "source": [
    "empty1 = np.zeros((4,5))\n",
    "empty1"
   ]
  },
  {
   "cell_type": "code",
   "execution_count": 52,
   "id": "c358b693-b624-44e7-ab92-fdc7eb8b2588",
   "metadata": {},
   "outputs": [
    {
     "data": {
      "text/plain": [
       "array([[1., 1., 1., 1., 1.],\n",
       "       [1., 1., 1., 1., 1.],\n",
       "       [1., 1., 1., 1., 1.],\n",
       "       [1., 1., 1., 1., 1.]])"
      ]
     },
     "execution_count": 52,
     "metadata": {},
     "output_type": "execute_result"
    }
   ],
   "source": [
    "empty2 = np.ones((4,5))\n",
    "empty2"
   ]
  },
  {
   "cell_type": "code",
   "execution_count": 64,
   "id": "68388947-d6a0-497c-869e-813f21debdcf",
   "metadata": {},
   "outputs": [
    {
     "data": {
      "text/plain": [
       "array([[[ 0.00000000e+000,  6.95291128e-310,  1.43279037e-321,\n",
       "         -2.81276534e+247,  2.49294647e-306],\n",
       "        [ 5.83800650e-302,  4.96980413e-297,  3.38520870e-306,\n",
       "          1.37977062e-281,  3.40981413e-291],\n",
       "        [ 4.96980384e-297,  4.22884902e-307,  1.02350507e-012,\n",
       "          1.63403729e-301,  1.34065087e-272],\n",
       "        [ 3.88367945e-267,  7.02093488e-292,  2.49468480e-306,\n",
       "          5.83316465e-302,  1.69113662e-258]],\n",
       "\n",
       "       [[ 8.78713400e-268,  1.69416747e-258,  4.88005593e-239,\n",
       "          7.27534515e-249,  3.06077957e-308],\n",
       "        [ 1.70545218e-253,  1.96342402e-306,  1.69416747e-258,\n",
       "          5.75608913e-263,  1.63722716e-301],\n",
       "        [ 2.10053204e-301,  7.27534707e-249,  8.78372380e-268,\n",
       "          1.97983711e-277,  5.11767330e-307],\n",
       "        [-1.15901659e-272,  1.97443242e-277,  2.04756501e-306,\n",
       "          1.63558415e-301,  5.83290213e-302]]])"
      ]
     },
     "execution_count": 64,
     "metadata": {},
     "output_type": "execute_result"
    }
   ],
   "source": [
    "empty3 = np.empty((2,4,5))\n",
    "empty3"
   ]
  },
  {
   "cell_type": "code",
   "execution_count": 68,
   "id": "6a1a2f7d-f8c3-4d6f-a9a8-dbbc71e833c2",
   "metadata": {},
   "outputs": [
    {
     "data": {
      "text/plain": [
       "array([[1., 0., 0.],\n",
       "       [0., 1., 0.],\n",
       "       [0., 0., 1.]])"
      ]
     },
     "execution_count": 68,
     "metadata": {},
     "output_type": "execute_result"
    }
   ],
   "source": [
    "eye_array = np.eye(3,3)\n",
    "eye_array"
   ]
  },
  {
   "cell_type": "code",
   "execution_count": 71,
   "id": "80b60757-04b1-4487-9258-009367db1033",
   "metadata": {},
   "outputs": [
    {
     "data": {
      "text/plain": [
       "array([[0., 1., 0.],\n",
       "       [0., 0., 1.],\n",
       "       [0., 0., 0.]])"
      ]
     },
     "execution_count": 71,
     "metadata": {},
     "output_type": "execute_result"
    }
   ],
   "source": [
    "eye2_array = np.eye(3, 3, k=1)\n",
    "eye2_array"
   ]
  },
  {
   "cell_type": "code",
   "execution_count": 72,
   "id": "c96dfd60-cd22-454f-8616-2d66f2da33fb",
   "metadata": {},
   "outputs": [
    {
     "data": {
      "text/plain": [
       "array([[0., 0., 0.],\n",
       "       [1., 0., 0.],\n",
       "       [0., 1., 0.]])"
      ]
     },
     "execution_count": 72,
     "metadata": {},
     "output_type": "execute_result"
    }
   ],
   "source": [
    "eye3_array = np.eye(3, k=-1)\n",
    "eye3_array"
   ]
  },
  {
   "cell_type": "code",
   "execution_count": 74,
   "id": "efc24758-6736-46fc-acb9-403c4ea0ea6d",
   "metadata": {},
   "outputs": [
    {
     "data": {
      "text/plain": [
       "array([0., 0., 0., 0., 0., 0., 0.])"
      ]
     },
     "execution_count": 74,
     "metadata": {},
     "output_type": "execute_result"
    }
   ],
   "source": [
    "eye3_0_array  = eye3_array[eye3_array == 0]\n",
    "eye3_0_array"
   ]
  },
  {
   "cell_type": "code",
   "execution_count": 78,
   "id": "ec22a66b-6fa9-4658-84fb-a1c64cb155c4",
   "metadata": {},
   "outputs": [
    {
     "data": {
      "text/plain": [
       "array([[2., 2., 2.],\n",
       "       [1., 2., 2.],\n",
       "       [2., 1., 2.]])"
      ]
     },
     "execution_count": 78,
     "metadata": {},
     "output_type": "execute_result"
    }
   ],
   "source": [
    "eye3_array[eye3_array == 0] = 2\n",
    "eye3_array"
   ]
  },
  {
   "cell_type": "code",
   "execution_count": 79,
   "id": "b2d0c34c-2b22-460b-8598-03481d8ca94b",
   "metadata": {},
   "outputs": [
    {
     "data": {
      "text/plain": [
       "array([[2., 2., 2.],\n",
       "       [3., 2., 2.],\n",
       "       [2., 3., 2.]])"
      ]
     },
     "execution_count": 79,
     "metadata": {},
     "output_type": "execute_result"
    }
   ],
   "source": [
    "eye3_array[eye3_array < 2] = 3\n",
    "eye3_array"
   ]
  },
  {
   "cell_type": "code",
   "execution_count": 85,
   "id": "25b1d3ea-8935-4f74-9e59-8716394dd4b8",
   "metadata": {},
   "outputs": [
    {
     "data": {
      "text/plain": [
       "array([[4., 4., 4.],\n",
       "       [3., 2., 6.],\n",
       "       [2., 3., 6.]])"
      ]
     },
     "execution_count": 85,
     "metadata": {},
     "output_type": "execute_result"
    }
   ],
   "source": [
    "eye3_array[0] = 4\n",
    "eye3_array"
   ]
  },
  {
   "cell_type": "code",
   "execution_count": 87,
   "id": "cd82393c-1594-4060-8477-82a0d78c1464",
   "metadata": {},
   "outputs": [
    {
     "data": {
      "text/plain": [
       "array([[6., 6., 6.],\n",
       "       [6., 6., 6.],\n",
       "       [2., 3., 6.]])"
      ]
     },
     "execution_count": 87,
     "metadata": {},
     "output_type": "execute_result"
    }
   ],
   "source": [
    "eye3_array[:2] = 6\n",
    "eye3_array"
   ]
  },
  {
   "cell_type": "code",
   "execution_count": 88,
   "id": "6e482872-d11e-403f-bd8d-21665f62725a",
   "metadata": {},
   "outputs": [
    {
     "data": {
      "text/plain": [
       "array([[6., 6., 6.],\n",
       "       [1., 1., 1.],\n",
       "       [2., 3., 6.]])"
      ]
     },
     "execution_count": 88,
     "metadata": {},
     "output_type": "execute_result"
    }
   ],
   "source": [
    "eye3_array[1] = 1\n",
    "eye3_array"
   ]
  },
  {
   "cell_type": "code",
   "execution_count": 89,
   "id": "d0fa2bbe-4f02-4ae1-9722-39a25c63d80f",
   "metadata": {},
   "outputs": [
    {
     "data": {
      "text/plain": [
       "array([[6., 6., 6.],\n",
       "       [7., 7., 7.],\n",
       "       [7., 7., 7.]])"
      ]
     },
     "execution_count": 89,
     "metadata": {},
     "output_type": "execute_result"
    }
   ],
   "source": [
    "eye3_array[1:] = 7\n",
    "eye3_array"
   ]
  },
  {
   "cell_type": "code",
   "execution_count": 90,
   "id": "13c9fb69-3d37-4169-a0b0-224828ed9b8b",
   "metadata": {},
   "outputs": [
    {
     "data": {
      "text/plain": [
       "array([[6., 4., 4.],\n",
       "       [7., 4., 4.],\n",
       "       [7., 4., 4.]])"
      ]
     },
     "execution_count": 90,
     "metadata": {},
     "output_type": "execute_result"
    }
   ],
   "source": [
    "eye3_array[:,1:] = 4\n",
    "eye3_array"
   ]
  },
  {
   "cell_type": "code",
   "execution_count": 91,
   "id": "163621fa-a34f-40fd-a1fe-7fac9b090966",
   "metadata": {},
   "outputs": [
    {
     "data": {
      "text/plain": [
       "array([[6., 3., 4.],\n",
       "       [7., 3., 4.],\n",
       "       [7., 3., 4.]])"
      ]
     },
     "execution_count": 91,
     "metadata": {},
     "output_type": "execute_result"
    }
   ],
   "source": [
    "eye3_array[:,1] = 3\n",
    "eye3_array"
   ]
  },
  {
   "cell_type": "code",
   "execution_count": 96,
   "id": "d3dd7014-a130-40f5-994e-c4fb79f9dfc7",
   "metadata": {},
   "outputs": [
    {
     "data": {
      "text/plain": [
       "array([[ 6.,  3., -2.],\n",
       "       [ 7.,  3., -2.],\n",
       "       [-1., -1., -1.]])"
      ]
     },
     "execution_count": 96,
     "metadata": {},
     "output_type": "execute_result"
    }
   ],
   "source": [
    "eye3_array[-1] = -1\n",
    "eye3_array"
   ]
  },
  {
   "cell_type": "code",
   "execution_count": 97,
   "id": "edf4b109-733c-49df-84ab-8062b211c467",
   "metadata": {},
   "outputs": [],
   "source": [
    "#array Sorting "
   ]
  },
  {
   "cell_type": "code",
   "execution_count": 98,
   "id": "341da1e5-8eb0-4e5e-af56-1c128873244b",
   "metadata": {},
   "outputs": [
    {
     "data": {
      "text/plain": [
       "array([[-2.,  3.,  6.],\n",
       "       [-2.,  3.,  7.],\n",
       "       [-1., -1., -1.]])"
      ]
     },
     "execution_count": 98,
     "metadata": {},
     "output_type": "execute_result"
    }
   ],
   "source": [
    "sorted_array = np.sort(eye3_array)\n",
    "sorted_array"
   ]
  },
  {
   "cell_type": "code",
   "execution_count": 99,
   "id": "2cd7446d-bf1e-499e-8d4e-e110adae06a9",
   "metadata": {},
   "outputs": [
    {
     "data": {
      "text/plain": [
       "array([[-1., -1., -2.],\n",
       "       [ 6.,  3., -2.],\n",
       "       [ 7.,  3., -1.]])"
      ]
     },
     "execution_count": 99,
     "metadata": {},
     "output_type": "execute_result"
    }
   ],
   "source": [
    "column_sorted_array = np.sort(eye3_array, axis = 0)\n",
    "column_sorted_array"
   ]
  },
  {
   "cell_type": "code",
   "execution_count": 100,
   "id": "e89b89b8-397b-4557-9c32-48fedf16450f",
   "metadata": {},
   "outputs": [
    {
     "data": {
      "text/plain": [
       "array([[-2., -1., -1.],\n",
       "       [-2.,  3.,  6.],\n",
       "       [-1.,  3.,  7.]])"
      ]
     },
     "execution_count": 100,
     "metadata": {},
     "output_type": "execute_result"
    }
   ],
   "source": [
    "column_sorted_array = np.sort(sorted_array, axis = 0)\n",
    "column_sorted_array"
   ]
  },
  {
   "cell_type": "code",
   "execution_count": 102,
   "id": "f760b580-e397-4266-a189-e9ada9b72230",
   "metadata": {},
   "outputs": [],
   "source": [
    "# Copy Array  "
   ]
  },
  {
   "cell_type": "code",
   "execution_count": 119,
   "id": "50d5bed7-95de-4dd6-810b-15db27b5c973",
   "metadata": {},
   "outputs": [
    {
     "data": {
      "text/plain": [
       "<function ndarray.view>"
      ]
     },
     "execution_count": 119,
     "metadata": {},
     "output_type": "execute_result"
    }
   ],
   "source": [
    "my_view = eye3_array.view()\n",
    "view_array"
   ]
  },
  {
   "cell_type": "code",
   "execution_count": 120,
   "id": "db164aa5-24d8-472c-a568-dd53bd183d9c",
   "metadata": {},
   "outputs": [
    {
     "name": "stdout",
     "output_type": "stream",
     "text": [
      "[[4. 4. 4.]\n",
      " [4. 4. 4.]\n",
      " [4. 4. 4.]]\n"
     ]
    },
    {
     "data": {
      "text/plain": [
       "array([[4., 4., 4.],\n",
       "       [4., 4., 4.],\n",
       "       [4., 4., 4.]])"
      ]
     },
     "execution_count": 120,
     "metadata": {},
     "output_type": "execute_result"
    }
   ],
   "source": [
    "my_view[:] = 4\n",
    "print(eye3_array)\n",
    "my_view"
   ]
  },
  {
   "cell_type": "code",
   "execution_count": 112,
   "id": "9d9478e1-42c7-42f9-bcbf-0c4fa0cee45e",
   "metadata": {},
   "outputs": [],
   "source": [
    "#Another Method "
   ]
  },
  {
   "cell_type": "code",
   "execution_count": 114,
   "id": "396a9ee7-7e07-47b8-b58b-c7d5e0d9ac00",
   "metadata": {},
   "outputs": [
    {
     "data": {
      "text/plain": [
       "array([[-2., -1., -1.],\n",
       "       [-2.,  3.,  6.],\n",
       "       [-1.,  3.,  7.]])"
      ]
     },
     "execution_count": 114,
     "metadata": {},
     "output_type": "execute_result"
    }
   ],
   "source": [
    "my_copy = column_sorted_array.copy()\n",
    "my_copy"
   ]
  },
  {
   "cell_type": "code",
   "execution_count": 115,
   "id": "4c6c5728-c29f-4c4b-8d26-5e5611aa64fc",
   "metadata": {},
   "outputs": [
    {
     "name": "stdout",
     "output_type": "stream",
     "text": [
      "[[34. 34. 34.]\n",
      " [34. 34. 34.]\n",
      " [34. 34. 34.]]\n"
     ]
    },
    {
     "data": {
      "text/plain": [
       "array([[-2., -1., -1.],\n",
       "       [-2.,  3.,  6.],\n",
       "       [-1.,  3.,  7.]])"
      ]
     },
     "execution_count": 115,
     "metadata": {},
     "output_type": "execute_result"
    }
   ],
   "source": [
    "my_copy[:] = 34\n",
    "print(my_copy)\n",
    "column_sorted_array"
   ]
  },
  {
   "cell_type": "code",
   "execution_count": 121,
   "id": "3892b1f2-60cd-4034-aa51-43a77b63c98f",
   "metadata": {},
   "outputs": [
    {
     "name": "stdout",
     "output_type": "stream",
     "text": [
      "[[4.]\n",
      " [4.]\n",
      " [4.]\n",
      " [4.]\n",
      " [4.]\n",
      " [4.]\n",
      " [4.]\n",
      " [4.]\n",
      " [4.]]\n"
     ]
    },
    {
     "data": {
      "text/plain": [
       "array([[4., 4., 4.],\n",
       "       [4., 4., 4.],\n",
       "       [4., 4., 4.]])"
      ]
     },
     "execution_count": 121,
     "metadata": {},
     "output_type": "execute_result"
    }
   ],
   "source": [
    "my_view2 = my_view.reshape((9,1))\n",
    "print(my_view2)\n",
    "my_view"
   ]
  },
  {
   "cell_type": "code",
   "execution_count": null,
   "id": "d7176aad-e84f-4394-8b3f-a6cf40d2016f",
   "metadata": {},
   "outputs": [],
   "source": []
  }
 ],
 "metadata": {
  "kernelspec": {
   "display_name": "Python 3 (ipykernel)",
   "language": "python",
   "name": "python3"
  },
  "language_info": {
   "codemirror_mode": {
    "name": "ipython",
    "version": 3
   },
   "file_extension": ".py",
   "mimetype": "text/x-python",
   "name": "python",
   "nbconvert_exporter": "python",
   "pygments_lexer": "ipython3",
   "version": "3.10.9"
  }
 },
 "nbformat": 4,
 "nbformat_minor": 5
}
